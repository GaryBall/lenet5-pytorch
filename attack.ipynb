{
 "cells": [
  {
   "cell_type": "code",
   "execution_count": 1,
   "metadata": {},
   "outputs": [],
   "source": [
    "%matplotlib inline"
   ]
  },
  {
   "cell_type": "code",
   "execution_count": 2,
   "metadata": {},
   "outputs": [],
   "source": [
    "import torch\n",
    "import torch.nn as nn\n",
    "import torch.nn.functional as F\n",
    "import torch.optim as optim\n",
    "from torchvision import datasets, transforms\n",
    "import numpy as np\n",
    "import matplotlib.pyplot as plt"
   ]
  },
  {
   "cell_type": "code",
   "execution_count": 3,
   "metadata": {},
   "outputs": [
    {
     "name": "stdout",
     "output_type": "stream",
     "text": [
      "CUDA Available:  False\n"
     ]
    },
    {
     "data": {
      "text/plain": [
       "Net(\n",
       "  (conv1): Conv2d(1, 10, kernel_size=(5, 5), stride=(1, 1))\n",
       "  (conv2): Conv2d(10, 20, kernel_size=(5, 5), stride=(1, 1))\n",
       "  (conv2_drop): Dropout2d(p=0.5)\n",
       "  (fc1): Linear(in_features=320, out_features=50, bias=True)\n",
       "  (fc2): Linear(in_features=50, out_features=10, bias=True)\n",
       ")"
      ]
     },
     "execution_count": 3,
     "metadata": {},
     "output_type": "execute_result"
    }
   ],
   "source": [
    "mnist_path = '../data'\n",
    "model_path = './lenet_mnist_model.bin'\n",
    "\n",
    "# LeNet Model definition\n",
    "class Net(nn.Module):\n",
    "    def __init__(self):\n",
    "        super(Net, self).__init__()\n",
    "        self.conv1 = nn.Conv2d(1, 10, kernel_size=5)\n",
    "        self.conv2 = nn.Conv2d(10, 20, kernel_size=5)\n",
    "        self.conv2_drop = nn.Dropout2d()\n",
    "        self.fc1 = nn.Linear(320, 50)\n",
    "        self.fc2 = nn.Linear(50, 10)\n",
    "\n",
    "    def forward(self, x):\n",
    "        x = F.relu(F.max_pool2d(self.conv1(x), 2))\n",
    "        x = F.relu(F.max_pool2d(self.conv2_drop(self.conv2(x)), 2))\n",
    "        x = x.view(-1, 320)\n",
    "        x = F.relu(self.fc1(x))\n",
    "        x = F.dropout(x, training=self.training)\n",
    "        x = self.fc2(x)\n",
    "        return F.log_softmax(x, dim=1)\n",
    "\n",
    "# MNIST Test dataset and dataloader declaration\n",
    "test_loader = torch.utils.data.DataLoader(\n",
    "    datasets.MNIST(mnist_path, train=False, download=True, transform=transforms.Compose([\n",
    "            transforms.ToTensor(),\n",
    "            ])), \n",
    "        batch_size=1, shuffle=True)\n",
    "\n",
    "# Define what device we are using\n",
    "print(\"CUDA Available: \",torch.cuda.is_available())\n",
    "device = torch.device(\"cuda\" if (torch.cuda.is_available()) else \"cpu\")\n",
    "\n",
    "# Initialize the network\n",
    "model = Net().to(device)\n",
    "\n",
    "# Load the pretrained model\n",
    "model.load_state_dict(torch.load(model_path, map_location='cpu'))\n",
    "\n",
    "# Set the model in evaluation mode. In this case this is for the Dropout layers\n",
    "model.eval()"
   ]
  },
  {
   "cell_type": "code",
   "execution_count": 27,
   "metadata": {},
   "outputs": [],
   "source": [
    "# FGSM attack code\n",
    "def fgsm_attack(model, data, target, epsilon=0.1, critrion=F.nll_loss):\n",
    "    \n",
    "    # Set requires_grad attribute of tensor. Important for Attack\n",
    "    data.requires_grad = True\n",
    "    \n",
    "    # Forward pass the data through the model\n",
    "    output = model(data)\n",
    "\n",
    "    # Calculate the loss\n",
    "    loss = criterion(output, target)\n",
    "\n",
    "    # Zero all existing gradients\n",
    "    model.zero_grad()\n",
    "\n",
    "    # Calculate gradients of model in backward pass\n",
    "    loss.backward()\n",
    "\n",
    "    # Collect datagrad\n",
    "    data_grad = data.grad.data\n",
    "    \n",
    "    # Collect the element-wise sign of the data gradient\n",
    "    sign_data_grad = data_grad.sign()\n",
    "    \n",
    "    # Create the perturbed image by adjusting each pixel of the input image\n",
    "    perturbed_image = data + epsilon*sign_data_grad\n",
    "    \n",
    "    # Adding clipping to maintain [0,1] range\n",
    "    perturbed_image = torch.clamp(perturbed_image, 0, 1)\n",
    "    \n",
    "    # Return the perturbed image\n",
    "    return perturbed_image"
   ]
  },
  {
   "cell_type": "code",
   "execution_count": 48,
   "metadata": {},
   "outputs": [],
   "source": [
    "# BIM attack code\n",
    "def bim_attack(model, data, target, alpha = 0.05, nb_iter = 3, epsilon=0.05, critrion=F.nll_loss):\n",
    "    \n",
    "    eta = 0\n",
    "    for i in range(nb_iter):\n",
    "        # Call FGSM Attack\n",
    "        perturbed_data = fgsm_attack(model, (data+eta).detach(), target, alpha, critrion)\n",
    "        \n",
    "        # Clip intermediate results\n",
    "        eta = perturbed_data - data\n",
    "        eta = torch.clamp(eta, -epsilon, epsilon)\n",
    "\n",
    "    # Return the perturbed image\n",
    "    return data + eta"
   ]
  },
  {
   "cell_type": "code",
   "execution_count": 50,
   "metadata": {},
   "outputs": [
    {
     "name": "stdout",
     "output_type": "stream",
     "text": [
      "Accuracy: 0.981 -> 0.851\n"
     ]
    }
   ],
   "source": [
    "def test():\n",
    "\n",
    "    # Accuracy counter\n",
    "    correct0 = 0\n",
    "    correct1 = 0\n",
    "\n",
    "    # Loop over all examples in test set\n",
    "    for data, target in test_loader:\n",
    "\n",
    "        # Send the data and label to the device\n",
    "        data, target = data.to(device), target.to(device)\n",
    "\n",
    "        # Call Attack Method\n",
    "        perturbed_data = fgsm_attack(model, data, target)\n",
    "        # perturbed_data = bim_attack(model, data, target)\n",
    "\n",
    "        # Classify the image\n",
    "        init_output = model(data)\n",
    "        final_output = model(perturbed_data)\n",
    "\n",
    "        # Check for success\n",
    "        init_pred = init_output.max(1, keepdim=True)[1] # get the index of the max log-probability\n",
    "        final_pred = final_output.max(1, keepdim=True)[1]\n",
    "        \n",
    "        if init_pred.item() == target.item():\n",
    "            correct0 += 1\n",
    "        \n",
    "        if final_pred.item() == target.item():\n",
    "            correct1 += 1\n",
    "\n",
    "    # Calculate final accuracy for this epsilon\n",
    "    init_acc = correct0/float(len(test_loader))\n",
    "    final_acc = correct1/float(len(test_loader))\n",
    "    print(\"Accuracy: {} -> {}\".format(init_acc, final_acc))\n",
    "    \n",
    "test()"
   ]
  },
  {
   "cell_type": "code",
   "execution_count": null,
   "metadata": {},
   "outputs": [],
   "source": []
  }
 ],
 "metadata": {
  "kernelspec": {
   "display_name": "Python 3",
   "language": "python",
   "name": "python3"
  },
  "language_info": {
   "codemirror_mode": {
    "name": "ipython",
    "version": 3
   },
   "file_extension": ".py",
   "mimetype": "text/x-python",
   "name": "python",
   "nbconvert_exporter": "python",
   "pygments_lexer": "ipython3",
   "version": "3.7.1"
  }
 },
 "nbformat": 4,
 "nbformat_minor": 1
}
