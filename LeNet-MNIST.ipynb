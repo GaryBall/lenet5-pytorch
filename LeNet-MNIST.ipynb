{
 "cells": [
  {
   "cell_type": "code",
   "execution_count": 1,
   "metadata": {},
   "outputs": [],
   "source": [
    "import gzip, struct\n",
    "import numpy as np\n",
    "import torch.utils.data as data\n",
    "\n",
    "class MnistDataset(data.Dataset):\n",
    "    def __init__(self, path, train=True):\n",
    "        self.path = path\n",
    "        if train:\n",
    "            X, y = self._read('train-images-idx3-ubyte.gz', 'train-labels-idx1-ubyte.gz')\n",
    "        else:\n",
    "            X, y = self._read('t10k-images-idx3-ubyte.gz', 't10k-labels-idx1-ubyte.gz')\n",
    "            \n",
    "        self.images = torch.from_numpy(X.reshape(-1, 1, 28, 28)).float()\n",
    "        self.labels = torch.from_numpy(y.astype(int))\n",
    "        \n",
    "    def __getitem__(self, index):\n",
    "        return self.images[index], self.labels[index]\n",
    "\n",
    "    def __len__(self):\n",
    "        return len(self.images)\n",
    "\n",
    "    def _read(self, image, label):\n",
    "        with gzip.open(self.path + image, 'rb') as fimg:\n",
    "            magic, num, rows, cols = struct.unpack(\">IIII\", fimg.read(16))\n",
    "            X = np.frombuffer(fimg.read(), dtype=np.uint8).reshape(-1, rows, cols)\n",
    "        with gzip.open(self.path + label) as flbl:\n",
    "            magic, num = struct.unpack(\">II\", flbl.read(8))\n",
    "            y = np.frombuffer(flbl.read(), dtype=np.int8)\n",
    "        return X, y"
   ]
  },
  {
   "cell_type": "code",
   "execution_count": 2,
   "metadata": {},
   "outputs": [],
   "source": [
    "import torch\n",
    "\n",
    "train_dataset = MnistDataset('./data/')\n",
    "train_loader = data.DataLoader(dataset=train_dataset, shuffle=True, \n",
    "                          batch_size=256, num_workers=4, pin_memory=True)\n",
    "\n",
    "test_dataset = MnistDataset('./data/', train=False)\n",
    "test_loader = data.DataLoader(dataset=test_dataset, shuffle=True,\n",
    "                         batch_size=256, num_workers=4, pin_memory=True)"
   ]
  },
  {
   "cell_type": "code",
   "execution_count": 3,
   "metadata": {},
   "outputs": [
    {
     "data": {
      "image/png": "[encoded data removed]",
      "text/plain": [
       "<Figure size 432x288 with 1 Axes>"
      ]
     },
     "metadata": {
      "needs_background": "light"
     },
     "output_type": "display_data"
    }
   ],
   "source": [
    "import matplotlib.pyplot as plt\n",
    "%matplotlib inline\n",
    "\n",
    "def imshow(img, label):\n",
    "    plt.imshow(img.reshape((28, 28)))\n",
    "    plt.title('Ground truth: ' + str(label.item()))\n",
    "\n",
    "X, y = iter(train_loader).next()\n",
    "imshow(X[0], y[0])"
   ]
  },
  {
   "cell_type": "code",
   "execution_count": 4,
   "metadata": {},
   "outputs": [
    {
     "name": "stdout",
     "output_type": "stream",
     "text": [
      "Using device: cuda:0\n"
     ]
    },
    {
     "data": {
      "text/plain": [
       "LeNet(\n",
       "  (conv1): Conv2d(1, 6, kernel_size=(5, 5), stride=(1, 1), padding=(2, 2))\n",
       "  (conv2): Conv2d(6, 16, kernel_size=(5, 5), stride=(1, 1))\n",
       "  (fc1): Linear(in_features=400, out_features=120, bias=True)\n",
       "  (fc2): Linear(in_features=120, out_features=84, bias=True)\n",
       "  (fc3): Linear(in_features=84, out_features=10, bias=True)\n",
       ")"
      ]
     },
     "execution_count": 4,
     "metadata": {},
     "output_type": "execute_result"
    }
   ],
   "source": [
    "from torch import nn\n",
    "from torch.nn import functional as F\n",
    "import torchvision\n",
    "\n",
    "class LeNet(nn.Module):\n",
    "    def __init__(self):\n",
    "        super(LeNet, self).__init__()\n",
    "        # 1 input image channel, 6 output channels, 5x5 square convolution\n",
    "        # kernel\n",
    "        self.conv1 = nn.Conv2d(1, 6, 5, padding=2)\n",
    "        self.conv2 = nn.Conv2d(6, 16, 5)\n",
    "        # an affine operation: y = Wx + b\n",
    "        self.fc1 = nn.Linear(16 * 5 * 5, 120)\n",
    "        self.fc2 = nn.Linear(120, 84)\n",
    "        self.fc3 = nn.Linear(84, 10)\n",
    "        \n",
    "        \n",
    "    def forward(self, x):\n",
    "        features = []\n",
    "        # Max pooling over a (2, 2) window\n",
    "        x = F.relu(self.conv1(x))\n",
    "        features.append(x) # C1\n",
    "        x = F.max_pool2d(x, 2)\n",
    "        x = F.relu(self.conv2(x))\n",
    "        features.append(x) # C3\n",
    "        x = F.max_pool2d(x, 2)\n",
    "        features.append(x) # S4\n",
    "        x = x.view(x.size(0), -1)\n",
    "        x = F.relu(self.fc1(x))\n",
    "        x = F.relu(self.fc2(x))\n",
    "        x = self.fc3(x)\n",
    "        return x, features\n",
    "\n",
    "    \n",
    "net = LeNet()\n",
    "device = torch.device(\"cuda:0\" if torch.cuda.is_available() else \"cpu\")\n",
    "print('Using device:', device)\n",
    "\n",
    "net.to(device)"
   ]
  },
  {
   "cell_type": "code",
   "execution_count": 5,
   "metadata": {},
   "outputs": [
    {
     "data": {
      "text/plain": [
       "LeNet(\n",
       "  (conv1): Conv2d(1, 6, kernel_size=(5, 5), stride=(1, 1), padding=(2, 2))\n",
       "  (conv2): Conv2d(6, 16, kernel_size=(5, 5), stride=(1, 1))\n",
       "  (fc1): Linear(in_features=400, out_features=120, bias=True)\n",
       "  (fc2): Linear(in_features=120, out_features=84, bias=True)\n",
       "  (fc3): Linear(in_features=84, out_features=10, bias=True)\n",
       ")"
      ]
     },
     "execution_count": 5,
     "metadata": {},
     "output_type": "execute_result"
    }
   ],
   "source": [
    "import torch.optim as optim\n",
    "\n",
    "\n",
    "criterion = nn.CrossEntropyLoss(reduction='sum')\n",
    "optimizer = optim.Adam(net.parameters(), lr=1e-3, betas=(0.9, 0.99))\n",
    "\n",
    "def weight_init(m):\n",
    "    if isinstance(m, nn.Conv2d):\n",
    "        import math\n",
    "        n = m.kernel_size[0] * m.kernel_size[1] * m.out_channels\n",
    "        m.weight.data.normal_(0, math.sqrt(2. / n))\n",
    "\n",
    "net.apply(weight_init)"
   ]
  },
  {
   "cell_type": "code",
   "execution_count": 6,
   "metadata": {},
   "outputs": [
    {
     "name": "stdout",
     "output_type": "stream",
     "text": [
      "[1,    64] Loss: 0.885\n",
      "[1,   128] Loss: 0.553\n",
      "[1,   192] Loss: 0.293\n",
      "\n",
      "Test Accuracy: 96.78%\n",
      "\n",
      "[2,    64] Loss: 0.353\n",
      "[2,   128] Loss: 0.349\n",
      "[2,   192] Loss: 0.174\n",
      "\n",
      "Test Accuracy: 97.98%\n",
      "\n",
      "[3,    64] Loss: 0.268\n",
      "[3,   128] Loss: 0.040\n",
      "[3,   192] Loss: 0.208\n",
      "\n",
      "Test Accuracy: 98.39%\n",
      "\n",
      "[4,    64] Loss: 0.192\n",
      "[4,   128] Loss: 0.133\n",
      "[4,   192] Loss: 0.408\n",
      "\n",
      "Test Accuracy: 98.55%\n",
      "\n",
      "[5,    64] Loss: 0.088\n",
      "[5,   128] Loss: 0.162\n",
      "[5,   192] Loss: 0.016\n",
      "\n",
      "Test Accuracy: 98.24%\n",
      "\n",
      "Finished!\n"
     ]
    }
   ],
   "source": [
    "def train(epoch):\n",
    "    total_loss = 0.0\n",
    "    for batch_idx, (inputs, label) in enumerate(train_loader):\n",
    "        inputs, label = inputs.to(device), label.to(device)\n",
    "        # zero the parameter gradients\n",
    "        optimizer.zero_grad()\n",
    "        \n",
    "        # forward + backward + optimize\n",
    "        output = net(inputs)[0]\n",
    "        loss = criterion(output, label)\n",
    "        loss.backward()\n",
    "        optimizer.step()\n",
    "        \n",
    "        # print statistics\n",
    "        if batch_idx % 64 == 63:\n",
    "            total_loss += loss.item()\n",
    "            print('[{}, {:5d}] Loss: {:.3f}'.format(\n",
    "                epoch + 1, batch_idx + 1, total_loss / 64))\n",
    "            total_loss = 0.0\n",
    "def test():\n",
    "    test_loss = 0.0\n",
    "    correct = 0\n",
    "    with torch.no_grad():\n",
    "        for inputs, label in test_loader:\n",
    "            inputs, label = inputs.to(device), label.to(device)\n",
    "            output = net(inputs)[0]\n",
    "            # sum up batch loss\n",
    "            test_loss += criterion(output, label).item()\n",
    "            # get the index of the max log-probability\n",
    "            predict = output.data.max(1, keepdim=True)[1]\n",
    "            correct += predict.eq(label.data.view_as(predict)).sum().item()\n",
    "\n",
    "    test_loss /= len(test_loader.dataset)\n",
    "    print('\\nTest Accuracy: {:.2f}%\\n'.format(\n",
    "        100.0 * correct / len(test_loader.dataset)))\n",
    "\n",
    "for epoch in range(5):\n",
    "    train(epoch)\n",
    "    test()\n",
    "\n",
    "print('Finished!')"
   ]
  },
  {
   "cell_type": "code",
   "execution_count": 7,
   "metadata": {},
   "outputs": [
    {
     "data": {
      "text/plain": [
       "<matplotlib.image.AxesImage at 0x7f110e1466d8>"
      ]
     },
     "execution_count": 7,
     "metadata": {},
     "output_type": "execute_result"
    },
    {
     "data": {
      "image/png": "[encoded data removed]",
      "text/plain": [
       "<Figure size 432x288 with 1 Axes>"
      ]
     },
     "metadata": {
      "needs_background": "light"
     },
     "output_type": "display_data"
    }
   ],
   "source": [
    "import torchvision\n",
    "\n",
    "X = X.to(device)\n",
    "features = net(X)[1] # [C1, C3, S4]\n",
    "C1 = features[0][0].detach().cpu() # [6, 28, 28]\n",
    "plt.imshow(torch.cat((C1[0], C1[1], C1[2], C1[3], C1[4], C1[5]), dim=1))"
   ]
  },
  {
   "cell_type": "code",
   "execution_count": null,
   "metadata": {},
   "outputs": [],
   "source": []
  }
 ],
 "metadata": {
  "anaconda-cloud": {},
  "kernelspec": {
   "display_name": "Python 3",
   "language": "python",
   "name": "python3"
  },
  "language_info": {
   "codemirror_mode": {
    "name": "ipython",
    "version": 3
   },
   "file_extension": ".py",
   "mimetype": "text/x-python",
   "name": "python",
   "nbconvert_exporter": "python",
   "pygments_lexer": "ipython3",
   "version": "3.7.1"
  }
 },
 "nbformat": 4,
 "nbformat_minor": 2
}
