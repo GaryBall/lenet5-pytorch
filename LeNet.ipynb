{
 "cells": [
  {
   "cell_type": "code",
   "execution_count": 1,
   "metadata": {},
   "outputs": [],
   "source": [
    "import gzip, struct\n",
    "import numpy as np\n",
    "\n",
    "\n",
    "def _read(image,label):\n",
    "    minist_dir = './data/'\n",
    "    with gzip.open(minist_dir + label) as flbl:\n",
    "        magic, num = struct.unpack(\">II\", flbl.read(8))\n",
    "        label = np.frombuffer(flbl.read(), dtype=np.int8)\n",
    "    with gzip.open(minist_dir + image, 'rb') as fimg:\n",
    "        magic, num, rows, cols = struct.unpack(\">IIII\", fimg.read(16))\n",
    "        image = np.frombuffer(fimg.read(), dtype=np.uint8).reshape(len(label), rows, cols)\n",
    "    return image, label\n",
    "\n",
    "def get_data():\n",
    "    train_img, train_label = _read(\n",
    "            'train-images-idx3-ubyte.gz',\n",
    "            'train-labels-idx1-ubyte.gz')\n",
    "    test_img, test_label = _read(\n",
    "            't10k-images-idx3-ubyte.gz', \n",
    "            't10k-labels-idx1-ubyte.gz')\n",
    "    return [train_img, train_label, test_img, test_label]\n",
    "\n",
    "X, y, Xt, yt = get_data()"
   ]
  },
  {
   "cell_type": "code",
   "execution_count": 2,
   "metadata": {},
   "outputs": [
    {
     "name": "stdout",
     "output_type": "stream",
     "text": [
      "Using device: cuda:0\n"
     ]
    }
   ],
   "source": [
    "import torch\n",
    "from torch.utils.data import TensorDataset, DataLoader\n",
    "from torchvision import transforms\n",
    "\n",
    "\n",
    "batch_size = 256\n",
    "\n",
    "train_x, train_y = [ torch.from_numpy(X.reshape(-1, 1, 28, 28)).float(), \n",
    "    torch.from_numpy(y.astype(int)) ]\n",
    "train_dataset = TensorDataset(train_x, train_y)\n",
    "train_loader = DataLoader(dataset=train_dataset, shuffle=True, \n",
    "                          batch_size=batch_size, num_workers=2, pin_memory=True)\n",
    "\n",
    "test_x, test_y = [ torch.from_numpy(Xt.reshape(-1, 1, 28, 28)).float(),\n",
    "    torch.from_numpy(yt.astype(int)) ]\n",
    "test_dataset = TensorDataset(test_x, test_y)\n",
    "test_loader = DataLoader(dataset=test_dataset, shuffle=True,\n",
    "                         batch_size=batch_size, num_workers=2, pin_memory=True)"
   ]
  },
  {
   "cell_type": "code",
   "execution_count": 3,
   "metadata": {},
   "outputs": [
    {
     "data": {
      "image/png": "[encoded data removed]",
      "text/plain": [
       "<Figure size 432x288 with 1 Axes>"
      ]
     },
     "metadata": {
      "needs_background": "light"
     },
     "output_type": "display_data"
    }
   ],
   "source": [
    "import matplotlib.pyplot as plt\n",
    "%matplotlib inline\n",
    "\n",
    "def imshow(img, label):\n",
    "    plt.imshow(img.reshape((28, 28)))\n",
    "    plt.title('label: ' + str(label))\n",
    "\n",
    "imshow(X[0], y[0])"
   ]
  },
  {
   "cell_type": "code",
   "execution_count": 4,
   "metadata": {},
   "outputs": [
    {
     "data": {
      "text/plain": [
       "LeNet(\n",
       "  (conv1): Conv2d(1, 6, kernel_size=(5, 5), stride=(1, 1), padding=(2, 2))\n",
       "  (conv2): Conv2d(6, 16, kernel_size=(5, 5), stride=(1, 1))\n",
       "  (fc1): Linear(in_features=400, out_features=120, bias=True)\n",
       "  (fc2): Linear(in_features=120, out_features=84, bias=True)\n",
       "  (fc3): Linear(in_features=84, out_features=10, bias=True)\n",
       ")"
      ]
     },
     "execution_count": 4,
     "metadata": {},
     "output_type": "execute_result"
    }
   ],
   "source": [
    "from torch import nn\n",
    "from torch.nn import functional as F\n",
    "from torch.autograd import Variable\n",
    "\n",
    "class LeNet(nn.Module):\n",
    "    def __init__(self):\n",
    "        super(LeNet, self).__init__()\n",
    "        # 1 input image channel, 6 output channels, 5x5 square convolution\n",
    "        # kernel\n",
    "        self.conv1 = nn.Conv2d(1, 6, 5, padding=2)\n",
    "        self.conv2 = nn.Conv2d(6, 16, 5)\n",
    "        # an affine operation: y = Wx + b\n",
    "        self.fc1 = nn.Linear(16 * 5 * 5, 120)\n",
    "        self.fc2 = nn.Linear(120, 84)\n",
    "        self.fc3 = nn.Linear(84, 10)\n",
    "        \n",
    "        \n",
    "    def forward(self, x):\n",
    "        # Max pooling over a (2, 2) window\n",
    "        x = F.max_pool2d(F.relu(self.conv1(x)), (2, 2))\n",
    "        x = F.max_pool2d(F.relu(self.conv2(x)), (2, 2))\n",
    "        x = x.view(-1, self.num_flat_features(x))\n",
    "        x = F.relu(self.fc1(x))\n",
    "        x = F.relu(self.fc2(x))\n",
    "        x = self.fc3(x)\n",
    "        return x\n",
    "    \n",
    "    def num_flat_features(self, x):\n",
    "        size = x.size()[1:]\n",
    "        num_features = 1\n",
    "        for s in size:\n",
    "            num_features *= s\n",
    "        return num_features\n",
    "    \n",
    "net = LeNet()\n",
    "device = torch.device(\"cuda:0\" if torch.cuda.is_available() else \"cpu\")\n",
    "print('Using device:', device)\n",
    "\n",
    "net.to(device)"
   ]
  },
  {
   "cell_type": "code",
   "execution_count": 5,
   "metadata": {},
   "outputs": [
    {
     "data": {
      "text/plain": [
       "LeNet(\n",
       "  (conv1): Conv2d(1, 6, kernel_size=(5, 5), stride=(1, 1), padding=(2, 2))\n",
       "  (conv2): Conv2d(6, 16, kernel_size=(5, 5), stride=(1, 1))\n",
       "  (fc1): Linear(in_features=400, out_features=120, bias=True)\n",
       "  (fc2): Linear(in_features=120, out_features=84, bias=True)\n",
       "  (fc3): Linear(in_features=84, out_features=10, bias=True)\n",
       ")"
      ]
     },
     "execution_count": 5,
     "metadata": {},
     "output_type": "execute_result"
    }
   ],
   "source": [
    "import torch.optim as optim\n",
    "\n",
    "\n",
    "criterion = nn.CrossEntropyLoss(reduction='sum')\n",
    "optimizer = optim.Adam(net.parameters(), lr=1e-3, betas=(0.9, 0.99))\n",
    "\n",
    "def weight_init(m):\n",
    "    if isinstance(m, nn.Conv2d):\n",
    "        import math\n",
    "        n = m.kernel_size[0] * m.kernel_size[1] * m.out_channels\n",
    "        m.weight.data.normal_(0, math.sqrt(2. / n))\n",
    "    elif isinstance(m, nn.BatchNorm2d):\n",
    "        m.weight.data.fill_(1)\n",
    "        m.bias.data.zero_()\n",
    "\n",
    "net.apply(weight_init)"
   ]
  },
  {
   "cell_type": "code",
   "execution_count": 9,
   "metadata": {},
   "outputs": [
    {
     "name": "stdout",
     "output_type": "stream",
     "text": [
      "Train Epoch: 0 [0/60000 (0%)]\tLoss: 0.181253\n",
      "Train Epoch: 0 [23040/60000 (38%)]\tLoss: 1.261541\n",
      "Train Epoch: 0 [46080/60000 (77%)]\tLoss: 0.172843\n",
      "\n",
      "Test set: Average loss: 0.0589, Accuracy: 9881/10000 (98.00%)\n",
      "\n",
      "Train Epoch: 1 [0/60000 (0%)]\tLoss: 0.058668\n",
      "Train Epoch: 1 [23040/60000 (38%)]\tLoss: 0.033376\n",
      "Train Epoch: 1 [46080/60000 (77%)]\tLoss: 0.137616\n",
      "\n",
      "Test set: Average loss: 0.0721, Accuracy: 9859/10000 (98.00%)\n",
      "\n",
      "Train Epoch: 2 [0/60000 (0%)]\tLoss: 0.061060\n",
      "Train Epoch: 2 [23040/60000 (38%)]\tLoss: 0.158294\n",
      "Train Epoch: 2 [46080/60000 (77%)]\tLoss: 2.105832\n",
      "\n",
      "Test set: Average loss: 0.0561, Accuracy: 9891/10000 (98.00%)\n",
      "\n",
      "Train Epoch: 3 [0/60000 (0%)]\tLoss: 4.312164\n",
      "Train Epoch: 3 [23040/60000 (38%)]\tLoss: 0.165908\n",
      "Train Epoch: 3 [46080/60000 (77%)]\tLoss: 5.161349\n",
      "\n",
      "Test set: Average loss: 0.0611, Accuracy: 9895/10000 (98.00%)\n",
      "\n",
      "Train Epoch: 4 [0/60000 (0%)]\tLoss: 0.023689\n",
      "Train Epoch: 4 [23040/60000 (38%)]\tLoss: 0.193771\n",
      "Train Epoch: 4 [46080/60000 (77%)]\tLoss: 5.748004\n",
      "\n",
      "Test set: Average loss: 0.0547, Accuracy: 9907/10000 (99.00%)\n",
      "\n",
      "Train Epoch: 5 [0/60000 (0%)]\tLoss: 0.136752\n",
      "Train Epoch: 5 [23040/60000 (38%)]\tLoss: 2.148384\n",
      "Train Epoch: 5 [46080/60000 (77%)]\tLoss: 3.717017\n",
      "\n",
      "Test set: Average loss: 0.0626, Accuracy: 9883/10000 (98.00%)\n",
      "\n",
      "Train Epoch: 6 [0/60000 (0%)]\tLoss: 0.103004\n",
      "Train Epoch: 6 [23040/60000 (38%)]\tLoss: 7.584842\n",
      "Train Epoch: 6 [46080/60000 (77%)]\tLoss: 2.986469\n",
      "\n",
      "Test set: Average loss: 0.0771, Accuracy: 9875/10000 (98.00%)\n",
      "\n",
      "Train Epoch: 7 [0/60000 (0%)]\tLoss: 1.462852\n",
      "Train Epoch: 7 [23040/60000 (38%)]\tLoss: 1.892354\n",
      "Train Epoch: 7 [46080/60000 (77%)]\tLoss: 0.024918\n",
      "\n",
      "Test set: Average loss: 0.0672, Accuracy: 9888/10000 (98.00%)\n",
      "\n",
      "Train Epoch: 8 [0/60000 (0%)]\tLoss: 0.002979\n",
      "Train Epoch: 8 [23040/60000 (38%)]\tLoss: 5.982934\n",
      "Train Epoch: 8 [46080/60000 (77%)]\tLoss: 0.853573\n",
      "\n",
      "Test set: Average loss: 0.0727, Accuracy: 9884/10000 (98.00%)\n",
      "\n",
      "Train Epoch: 9 [0/60000 (0%)]\tLoss: 1.935343\n",
      "Train Epoch: 9 [23040/60000 (38%)]\tLoss: 0.009667\n",
      "Train Epoch: 9 [46080/60000 (77%)]\tLoss: 0.735963\n",
      "\n",
      "Test set: Average loss: 0.0802, Accuracy: 9888/10000 (98.00%)\n",
      "\n"
     ]
    }
   ],
   "source": [
    "def train(epoch):\n",
    "    net.train()\n",
    "    for batch_idx, (data, label) in enumerate(train_loader):\n",
    "        data, label = data.to(device), label.to(device)\n",
    "        # zero the parameter gradients\n",
    "        optimizer.zero_grad()\n",
    "        \n",
    "        # forward + backward + optimize\n",
    "        output = net(data)\n",
    "        loss = criterion(output, label)\n",
    "        loss.backward()\n",
    "        optimizer.step()\n",
    "        \n",
    "        # print statistics\n",
    "        if batch_idx % 90 == 0:\n",
    "            print('Train Epoch: {} [{}/{} ({:.0f}%)]\\tLoss: {:.6f}'.format(\n",
    "                epoch, batch_idx * len(data), len(train_loader.dataset),\n",
    "                100.0 * batch_idx / len(train_loader), loss.item()))\n",
    "def test():\n",
    "    net.eval()\n",
    "    test_loss = 0.0\n",
    "    correct = 0\n",
    "    with torch.no_grad():\n",
    "        for data, label in test_loader:\n",
    "            data, label = data.to(device), label.to(device)\n",
    "            output = net(data)\n",
    "            # sum up batch loss\n",
    "            test_loss += criterion(output, label).data.item()\n",
    "            # get the index of the max log-probability\n",
    "            pred = output.data.max(1, keepdim=True)[1]\n",
    "            correct += pred.eq(label.data.view_as(pred)).cpu().sum()\n",
    "\n",
    "    test_loss /= len(test_loader.dataset)\n",
    "    print('\\nTest set: Average loss: {:.4f}, Accuracy: {}/{} ({:.2f}%)\\n'.format(\n",
    "        test_loss, correct, len(test_loader.dataset),\n",
    "        100.0 * correct / len(test_loader.dataset)))\n",
    "\n",
    "for epoch in range(10):\n",
    "    train(epoch)\n",
    "    test()"
   ]
  },
  {
   "cell_type": "code",
   "execution_count": null,
   "metadata": {},
   "outputs": [],
   "source": []
  }
 ],
 "metadata": {
  "anaconda-cloud": {},
  "kernelspec": {
   "display_name": "Python 3",
   "language": "python",
   "name": "python3"
  },
  "language_info": {
   "codemirror_mode": {
    "name": "ipython",
    "version": 3
   },
   "file_extension": ".py",
   "mimetype": "text/x-python",
   "name": "python",
   "nbconvert_exporter": "python",
   "pygments_lexer": "ipython3",
   "version": "3.7.1"
  }
 },
 "nbformat": 4,
 "nbformat_minor": 2
}
